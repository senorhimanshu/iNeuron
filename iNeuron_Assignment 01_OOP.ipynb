{
 "cells": [
  {
   "cell_type": "raw",
   "metadata": {},
   "source": [
    "create 2 class - A & B. Create method 'test' in both classes. Create class C & inherit A & B attribute into C.\n",
    "Through class C you need to access both methods of A & B. e.g. different definition of name in both classes of A & B.\n",
    "Call A test method & B test method inside class C."
   ]
  },
  {
   "cell_type": "code",
   "execution_count": 1,
   "metadata": {},
   "outputs": [
    {
     "name": "stdout",
     "output_type": "stream",
     "text": [
      "Name: himanshu, Pay: 50000, Exp: 5\n"
     ]
    }
   ],
   "source": [
    "class A:\n",
    "    def __init__(self, name, uid):\n",
    "        self.name = name\n",
    "        self.uid = uid\n",
    "        \n",
    "class B:\n",
    "    def __init__(self, pay, jobtitle):\n",
    "        self.pay = pay\n",
    "        self.jobtitle = jobtitle\n",
    "        \n",
    "class C(A,B):\n",
    "    def __init__(self, name, uid, pay, jobtitle, exp):\n",
    "        self.exp = exp\n",
    "        A.__init__(self, name, uid)\n",
    "        B.__init__(self, pay, jobtitle)\n",
    "        print('Name: {}, Pay: {}, Exp: {}'.format(self.name, self.pay, self.exp))\n",
    "        \n",
    "c = C('himanshu', 1001, 50000, 'manager', 5)"
   ]
  },
  {
   "cell_type": "code",
   "execution_count": null,
   "metadata": {},
   "outputs": [],
   "source": []
  },
  {
   "cell_type": "code",
   "execution_count": null,
   "metadata": {},
   "outputs": [],
   "source": []
  },
  {
   "cell_type": "code",
   "execution_count": null,
   "metadata": {},
   "outputs": [],
   "source": []
  },
  {
   "cell_type": "code",
   "execution_count": null,
   "metadata": {},
   "outputs": [],
   "source": []
  },
  {
   "cell_type": "code",
   "execution_count": null,
   "metadata": {},
   "outputs": [],
   "source": []
  }
 ],
 "metadata": {
  "kernelspec": {
   "display_name": "Python 3",
   "language": "python",
   "name": "python3"
  },
  "language_info": {
   "codemirror_mode": {
    "name": "ipython",
    "version": 3
   },
   "file_extension": ".py",
   "mimetype": "text/x-python",
   "name": "python",
   "nbconvert_exporter": "python",
   "pygments_lexer": "ipython3",
   "version": "3.6.8"
  },
  "toc": {
   "base_numbering": 1,
   "nav_menu": {},
   "number_sections": true,
   "sideBar": true,
   "skip_h1_title": false,
   "title_cell": "Table of Contents",
   "title_sidebar": "Contents",
   "toc_cell": false,
   "toc_position": {},
   "toc_section_display": true,
   "toc_window_display": false
  }
 },
 "nbformat": 4,
 "nbformat_minor": 2
}
